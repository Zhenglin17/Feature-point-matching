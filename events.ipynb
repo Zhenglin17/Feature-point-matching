{
 "cells": [
  {
   "cell_type": "code",
   "execution_count": 1,
   "id": "05a56dbb",
   "metadata": {},
   "outputs": [],
   "source": [
    "import h5py\n",
    "import numpy as np\n",
    "import matplotlib.pyplot as plt\n",
    "import cv2\n",
    "import tables\n",
    "import os"
   ]
  },
  {
   "cell_type": "code",
   "execution_count": 10,
   "id": "805a0438",
   "metadata": {},
   "outputs": [
    {
     "name": "stdout",
     "output_type": "stream",
     "text": [
      "(array([1, 2, 3, 4, 5, 6, 8]), array([12,  0,  1,  3,  5,  7,  4], dtype=int64), array([9, 3, 7, 0, 8, 1, 2], dtype=int64))\n"
     ]
    }
   ],
   "source": [
    "a = np.array([2, 3, 7, 4, 8, 5, 3, 6, 8, 9, 5, 3, 1])\n",
    "b = np.array([4, 6, 8, 2, 2, 4, 4, 3, 5, 1, 3, 4, 5])\n",
    "print(np.intersect1d(a, b, return_indices = True))"
   ]
  },
  {
   "cell_type": "code",
   "execution_count": 15,
   "id": "36bfd9fc",
   "metadata": {},
   "outputs": [
    {
     "name": "stdout",
     "output_type": "stream",
     "text": [
      "False\n",
      "False\n",
      "False\n",
      "False\n",
      "False\n",
      "False\n",
      "False\n",
      "False\n",
      "False\n",
      "False\n",
      "False\n",
      "True\n",
      "False\n",
      "False\n",
      "False\n",
      "False\n"
     ]
    }
   ],
   "source": [
    "lis = [(2, 3), (4, 7), (5, 2), (4, 9)]\n",
    "for i in range(4):\n",
    "    for j in range(4):\n",
    "        print((i, j) in lis)"
   ]
  },
  {
   "cell_type": "code",
   "execution_count": 2,
   "id": "e8243b8e",
   "metadata": {},
   "outputs": [
    {
     "name": "stdout",
     "output_type": "stream",
     "text": [
      "events.h5 :\n"
     ]
    }
   ],
   "source": [
    "f = h5py.File(\"events.h5\", \"r\")\n",
    "print(f.filename, \":\")"
   ]
  },
  {
   "cell_type": "code",
   "execution_count": 3,
   "id": "937e826c",
   "metadata": {},
   "outputs": [
    {
     "name": "stdout",
     "output_type": "stream",
     "text": [
      "rectify_map.h5 :\n"
     ]
    }
   ],
   "source": [
    "rectify_map = h5py.File(\"rectify_map.h5\", \"r\")\n",
    "print(rectify_map.filename, \":\")"
   ]
  },
  {
   "cell_type": "code",
   "execution_count": 4,
   "id": "cde9527d",
   "metadata": {},
   "outputs": [
    {
     "name": "stdout",
     "output_type": "stream",
     "text": [
      "['events', 'ms_to_idx', 't_offset'] \n",
      "\n",
      "['rectify_map'] \n",
      "\n"
     ]
    }
   ],
   "source": [
    "print([key for key in f.keys()], \"\\n\") \n",
    "print([key for key in rectify_map.keys()], \"\\n\") "
   ]
  },
  {
   "cell_type": "code",
   "execution_count": 5,
   "id": "33c2695f",
   "metadata": {},
   "outputs": [
    {
     "data": {
      "text/plain": [
       "49599200165"
      ]
     },
     "execution_count": 5,
     "metadata": {},
     "output_type": "execute_result"
    }
   ],
   "source": [
    "offset = int(np.array(f['t_offset']))\n",
    "offset"
   ]
  },
  {
   "cell_type": "code",
   "execution_count": 6,
   "id": "6c3ec2f7",
   "metadata": {},
   "outputs": [
    {
     "name": "stdout",
     "output_type": "stream",
     "text": [
      "['p', 't', 'x', 'y'] \n",
      "\n"
     ]
    }
   ],
   "source": [
    "print([key for key in f['events'].keys()], \"\\n\")"
   ]
  },
  {
   "cell_type": "code",
   "execution_count": 7,
   "id": "442d2a16",
   "metadata": {},
   "outputs": [
    {
     "name": "stdout",
     "output_type": "stream",
     "text": [
      "[     0  10478  21074  31409  41793  52263  62698  73216  83686  94157\n",
      " 104559 115218 125728 136085 146461 156861 167397 177682 188020 198376]\n"
     ]
    }
   ],
   "source": [
    "print(np.array(f['ms_to_idx'])[0:20])"
   ]
  },
  {
   "cell_type": "code",
   "execution_count": 8,
   "id": "0c6f4fde",
   "metadata": {},
   "outputs": [
    {
     "data": {
      "text/plain": [
       "(11902,)"
      ]
     },
     "execution_count": 8,
     "metadata": {},
     "output_type": "execute_result"
    }
   ],
   "source": [
    "f['ms_to_idx'].shape"
   ]
  },
  {
   "cell_type": "code",
   "execution_count": 9,
   "id": "67642b42",
   "metadata": {},
   "outputs": [
    {
     "name": "stdout",
     "output_type": "stream",
     "text": [
      "0 11900999\n"
     ]
    }
   ],
   "source": [
    "t = f['events']['t']\n",
    "t = np.array(t)\n",
    "print(t.min(), t.max())"
   ]
  },
  {
   "cell_type": "code",
   "execution_count": 10,
   "id": "54b5c56b",
   "metadata": {},
   "outputs": [
    {
     "name": "stdout",
     "output_type": "stream",
     "text": [
      "0 639\n"
     ]
    }
   ],
   "source": [
    "x = f['events']['x']\n",
    "x = np.array(x)\n",
    "print(x.min(), x.max())"
   ]
  },
  {
   "cell_type": "code",
   "execution_count": 11,
   "id": "db26e4b5",
   "metadata": {},
   "outputs": [
    {
     "name": "stdout",
     "output_type": "stream",
     "text": [
      "0 479\n"
     ]
    }
   ],
   "source": [
    "y = f['events']['y']\n",
    "y = np.array(y)\n",
    "print(y.min(), y.max())"
   ]
  },
  {
   "cell_type": "code",
   "execution_count": 12,
   "id": "8207ac82",
   "metadata": {},
   "outputs": [
    {
     "name": "stdout",
     "output_type": "stream",
     "text": [
      "49599200165 49611101164\n",
      "[[      0]\n",
      " [      1]\n",
      " [      2]\n",
      " ...\n",
      " [1800365]\n",
      " [1800366]\n",
      " [1800367]]\n"
     ]
    }
   ],
   "source": [
    "t = f['events']['t']\n",
    "t = np.array(t)\n",
    "t = t + offset\n",
    "print(t.min(), t.max())\n",
    "print(np.argwhere(t < 49599400524))"
   ]
  },
  {
   "cell_type": "code",
   "execution_count": 13,
   "id": "707850a9",
   "metadata": {},
   "outputs": [
    {
     "name": "stdout",
     "output_type": "stream",
     "text": [
      "0 1\n"
     ]
    }
   ],
   "source": [
    "p = f['events']['p']\n",
    "p = np.array(p)\n",
    "print(p.min(), p.max())"
   ]
  },
  {
   "cell_type": "code",
   "execution_count": 14,
   "id": "c3791ad4",
   "metadata": {},
   "outputs": [
    {
     "name": "stdout",
     "output_type": "stream",
     "text": [
      "134133270\n"
     ]
    },
    {
     "data": {
      "text/plain": [
       "array([[        622,         279, 49599200165,           1],\n",
       "       [        126,         278, 49599200165,           1],\n",
       "       [        534,         278, 49599200165,           0],\n",
       "       ...,\n",
       "       [        565,         316, 49611101164,           1],\n",
       "       [        579,         316, 49611101164,           0],\n",
       "       [        627,         316, 49611101164,           0]], dtype=int64)"
      ]
     },
     "execution_count": 14,
     "metadata": {},
     "output_type": "execute_result"
    }
   ],
   "source": [
    "event_data = np.vstack((x, y))\n",
    "event_data = np.vstack((event_data, t))\n",
    "event_data = np.vstack((event_data, p))\n",
    "event_data = event_data.T\n",
    "event_data\n",
    "print(len(event_data))\n",
    "event_data = event_data.astype(np.int64)\n",
    "event_data\n",
    "#x, y, t, p"
   ]
  },
  {
   "cell_type": "code",
   "execution_count": 15,
   "id": "b5d9857e",
   "metadata": {},
   "outputs": [
    {
     "name": "stdout",
     "output_type": "stream",
     "text": [
      "(480, 640, 2)\n"
     ]
    },
    {
     "data": {
      "text/plain": [
       "240.43445"
      ]
     },
     "execution_count": 15,
     "metadata": {},
     "output_type": "execute_result"
    }
   ],
   "source": [
    "rectify = rectify_map['rectify_map']\n",
    "print(rectify.shape)\n",
    "rectify[235, 577, 1]"
   ]
  },
  {
   "cell_type": "code",
   "execution_count": 16,
   "id": "5352debc",
   "metadata": {},
   "outputs": [
    {
     "data": {
      "text/plain": [
       "array([[        632,         286, 49599200165,           1],\n",
       "       [        118,         283, 49599200165,           1],\n",
       "       [        540,         284, 49599200165,           0],\n",
       "       ...,\n",
       "       [        572,         324, 49611101164,           1],\n",
       "       [        587,         324, 49611101164,           0],\n",
       "       [        637,         324, 49611101164,           0]], dtype=int64)"
      ]
     },
     "execution_count": 16,
     "metadata": {},
     "output_type": "execute_result"
    }
   ],
   "source": [
    "# for row in range(len(event_data)):\n",
    "#     rectify_x = rectify[event_data[row, 1], event_data[row, 0], 0]\n",
    "#     rectify_y = rectify[event_data[row, 1], event_data[row, 0], 1]\n",
    "#     event_data[row, 0] = rectify_x\n",
    "#     event_data[row, 1] = rectify_y\n",
    "# event_data\n",
    "\n",
    "\n",
    "event_data[:, 0:2] = rectify[:][event_data[:, 1], event_data[:, 0], :].astype(int)\n",
    "event_data"
   ]
  },
  {
   "cell_type": "code",
   "execution_count": 17,
   "id": "85f19f27",
   "metadata": {},
   "outputs": [],
   "source": [
    "np.save('original_events', event_data)"
   ]
  },
  {
   "cell_type": "code",
   "execution_count": null,
   "id": "37e61d66",
   "metadata": {},
   "outputs": [],
   "source": [
    "path = 'disparity/event'\n",
    "files= os.listdir(path)\n",
    "len(files)"
   ]
  },
  {
   "cell_type": "code",
   "execution_count": null,
   "id": "0b773a01",
   "metadata": {},
   "outputs": [],
   "source": [
    "time_stamps = []\n",
    "with open('disparity/timestamps.txt') as f:\n",
    "    flag = 0\n",
    "    for line in f.readlines():\n",
    "        line = line.replace('\\n', '')\n",
    "        line  = int(line)\n",
    "        time_stamps.append(line)\n",
    "time_stamps = np.array(time_stamps)\n",
    "len(time_stamps)"
   ]
  },
  {
   "cell_type": "code",
   "execution_count": null,
   "id": "7ed793d6",
   "metadata": {},
   "outputs": [],
   "source": [
    "index = np.zeros((len(event_data), 1))\n",
    "event_data = np.hstack((event_data, index))"
   ]
  },
  {
   "cell_type": "code",
   "execution_count": null,
   "id": "6f7be332",
   "metadata": {},
   "outputs": [],
   "source": [
    "event_data\n",
    "#x, y, t, p, disp_index"
   ]
  },
  {
   "cell_type": "code",
   "execution_count": null,
   "id": "f7a3c22c",
   "metadata": {},
   "outputs": [],
   "source": [
    "print(event_data[:, 2].min())\n",
    "print(event_data[:, 2].max())"
   ]
  },
  {
   "cell_type": "code",
   "execution_count": null,
   "id": "1c9649c4",
   "metadata": {},
   "outputs": [],
   "source": [
    "for row in range(len(event_data)):\n",
    "    event_data[row, 4] = np.argmin(np.abs(time_stamps - event_data[row, 2]))\n",
    "event_data"
   ]
  },
  {
   "cell_type": "code",
   "execution_count": null,
   "id": "b2bde9f5",
   "metadata": {},
   "outputs": [],
   "source": [
    "index = np.zeros((len(event_data), 1))\n",
    "event_data = np.hstack((event_data, index))\n",
    "event_data"
   ]
  },
  {
   "cell_type": "code",
   "execution_count": null,
   "id": "40606e69",
   "metadata": {},
   "outputs": [],
   "source": [
    "print(len(event_data))\n",
    "out_of_range_index = np.argwhere(np.logical_or(np.logical_or(event_data[:, 0] > 639, event_data[:, 0] < 0),\n",
    "                                 np.logical_or(event_data[:, 1] > 479, event_data[:, 0] < 0)))\n",
    "print(len(out_of_range_index))\n",
    "event_data = np.delete(event_data, out_of_range_index, axis = 0)\n",
    "print(len(event_data))"
   ]
  },
  {
   "cell_type": "code",
   "execution_count": null,
   "id": "d0b86fe6",
   "metadata": {},
   "outputs": [],
   "source": [
    "last_disparity_file = 0\n",
    "for row in range(len(event_data)):\n",
    "    current_disparity_file = files[event_data[row, 4].astype(int)]\n",
    "    #print(disparity_file)\n",
    "    if current_disparity_file != last_disparity_file:\n",
    "        print(\"Different!\")\n",
    "        print(current_disparity_file)\n",
    "        disparity_map = cv2.imread('disparity/event/' + current_disparity_file, 0)\n",
    "    #plt.imshow(disparity_map)\n",
    "    event_data[row][5] = disparity_map[event_data[row, 1].astype(int), event_data[row, 0].astype(int)]\n",
    "    last_disparity_file = current_disparity_file\n",
    "event_data"
   ]
  },
  {
   "cell_type": "code",
   "execution_count": null,
   "id": "fdc3e0c4",
   "metadata": {},
   "outputs": [],
   "source": [
    "print(len(event_data))\n",
    "zero_index = np.argwhere(event_data[:, 5] == 0)\n",
    "print(zero_index.shape)"
   ]
  },
  {
   "cell_type": "code",
   "execution_count": null,
   "id": "ecbf98c3",
   "metadata": {},
   "outputs": [],
   "source": [
    "event_data = np.delete(event_data, zero_index, axis = 0)\n",
    "event_data"
   ]
  },
  {
   "cell_type": "code",
   "execution_count": null,
   "id": "dd0c50a7",
   "metadata": {},
   "outputs": [],
   "source": [
    "len(event_data)"
   ]
  },
  {
   "cell_type": "code",
   "execution_count": null,
   "id": "2fbe2c5b",
   "metadata": {},
   "outputs": [],
   "source": [
    "reprojection_matrix = np.array([[1.0, 0.0, 0.0, -335.0999870300293],\n",
    "                               [0.0, 1.0, 0.0, -221.23667526245117],\n",
    "                               [0.0, 0.0, 0.0, 569.7632987676102],\n",
    "                               [0.0, 0.0, 1.6691407297504248, -0.0]])\n",
    "R_rect0 = np.array([[0.9999313912417018, -0.0023139054373197965, 0.011482972222461762],\n",
    "                    [0.002353841678837691, 0.9999912245858043, -0.003465570766066675],\n",
    "                    [-0.011474852451585301, 0.0034923620961737592, 0.9999280629966356]])"
   ]
  },
  {
   "cell_type": "code",
   "execution_count": null,
   "id": "c4b02656",
   "metadata": {},
   "outputs": [],
   "source": [
    "np.vstack((event_data[:, [0, 1, 5]].T, np.ones((1, len(event_data)))))"
   ]
  },
  {
   "cell_type": "code",
   "execution_count": null,
   "id": "fc5270cf",
   "metadata": {},
   "outputs": [],
   "source": [
    "event_3d = np.dot(reprojection_matrix, np.vstack((event_data[:, [0, 1, 5]].T, np.ones((1, len(event_data))))))\n",
    "event_3d"
   ]
  },
  {
   "cell_type": "code",
   "execution_count": null,
   "id": "3dc243dd",
   "metadata": {},
   "outputs": [],
   "source": [
    "event_3d = event_3d/event_3d[3, :]\n",
    "event_3d"
   ]
  },
  {
   "cell_type": "code",
   "execution_count": null,
   "id": "56dc3a92",
   "metadata": {},
   "outputs": [],
   "source": [
    "event_data = np.hstack((event_data, event_3d[0:3, :].T))\n",
    "event_data"
   ]
  },
  {
   "cell_type": "code",
   "execution_count": null,
   "id": "d3b49946",
   "metadata": {},
   "outputs": [],
   "source": [
    "T_event_to_frame = np.array([[0.9996874046885865, 0.009652146488870916, 0.023063585478994113, -0.04410263392688484],\n",
    "                             [-0.009722042371104245, 0.9999484753460813, 0.0029203673010648615, 0.0005281285423087664],\n",
    "                             [-0.023034209322743096, -0.0031436795631953228, 0.9997297347181744, -0.01229891454144492],\n",
    "                             [0.0, 0.0, 0.0, 1.0]])"
   ]
  },
  {
   "cell_type": "code",
   "execution_count": null,
   "id": "43512da6",
   "metadata": {},
   "outputs": [],
   "source": [
    "event_3d_original = np.dot(np.linalg.inv(R_rect0), event_3d[0:3, :])\n",
    "event_3d_original"
   ]
  },
  {
   "cell_type": "code",
   "execution_count": null,
   "id": "5f1d8b9d",
   "metadata": {},
   "outputs": [],
   "source": [
    "event_3d = np.vstack((event_3d_original, np.ones((1, len(event_data)))))\n",
    "event_3d"
   ]
  },
  {
   "cell_type": "code",
   "execution_count": null,
   "id": "bac3b3da",
   "metadata": {},
   "outputs": [],
   "source": [
    "frame_3d = np.dot(T_event_to_frame, event_3d)\n",
    "frame_3d"
   ]
  },
  {
   "cell_type": "code",
   "execution_count": null,
   "id": "8cf7732c",
   "metadata": {},
   "outputs": [],
   "source": [
    "event_data[:, [6, 7, 8]] = frame_3d[0:3, :].T\n",
    "event_data"
   ]
  },
  {
   "cell_type": "code",
   "execution_count": null,
   "id": "302b13f7",
   "metadata": {},
   "outputs": [],
   "source": [
    "print(frame_3d[0, :].max(), frame_3d[0, :].min())\n",
    "print(frame_3d[1, :].max(), frame_3d[1, :].min())\n",
    "print(frame_3d[2, :].max(), frame_3d[2, :].min())"
   ]
  },
  {
   "cell_type": "code",
   "execution_count": null,
   "id": "b8785911",
   "metadata": {},
   "outputs": [],
   "source": [
    "#event_data format right now: event_x, event_y, t, disparity_index, disparity, frame_x, frame_y, frame_z\n",
    "R_rect1 = np.array([[0.9998572179847892, -0.013025778024398856, -0.010764420587133948],\n",
    "                    [0.013060715513432202, 0.9999096430275752, 0.003181743349841093],\n",
    "                    [0.01072200326407413, -0.0033218800890692088, 0.9999369998948329]])\n",
    "K_rect1 = np.array([[1164.6238115833075, 0.0, 713.5791168212891],\n",
    "                    [0.0, 1164.6238115833075, 570.9349365234375],\n",
    "                    [0.0, 0.0, 1.0]])"
   ]
  },
  {
   "cell_type": "code",
   "execution_count": null,
   "id": "9bf6dfe7",
   "metadata": {},
   "outputs": [],
   "source": [
    "rectframe_3d = np.dot(R_rect1, frame_3d[0:3, :])\n",
    "rectframe_3d"
   ]
  },
  {
   "cell_type": "code",
   "execution_count": null,
   "id": "4dbe8ddb",
   "metadata": {},
   "outputs": [],
   "source": [
    "rectframe = np.dot(K_rect1, rectframe_3d)\n",
    "rectframe"
   ]
  },
  {
   "cell_type": "code",
   "execution_count": null,
   "id": "5a171cdd",
   "metadata": {},
   "outputs": [],
   "source": [
    "rectframe = rectframe/rectframe[2, :]\n",
    "rectframe"
   ]
  },
  {
   "cell_type": "code",
   "execution_count": null,
   "id": "63902cf9",
   "metadata": {},
   "outputs": [],
   "source": [
    "rectframe = rectframe[0:2, :]\n",
    "rectframe"
   ]
  },
  {
   "cell_type": "code",
   "execution_count": null,
   "id": "c83f35c7",
   "metadata": {},
   "outputs": [],
   "source": [
    "print(rectframe[0, :].min(), rectframe[0, :].max())\n",
    "print(rectframe[1, :].min(), rectframe[1, :].max())"
   ]
  },
  {
   "cell_type": "code",
   "execution_count": null,
   "id": "790f0e69",
   "metadata": {},
   "outputs": [],
   "source": [
    "event_data[:, [6, 7, 8]] = rectframe_3d.T\n",
    "event_data"
   ]
  },
  {
   "cell_type": "code",
   "execution_count": null,
   "id": "ef8bed85",
   "metadata": {},
   "outputs": [],
   "source": [
    "event_data = np.hstack((event_data, rectframe.T))\n",
    "print(event_data.shape)\n",
    "event_data[0:3]\n",
    "#event_data format right now: event_x, event_y, t, p, disparity_index, disparity, rect3d_x, rect3d_y, rect3d_z,\n",
    "#rectframe_x, rectframe_y"
   ]
  },
  {
   "cell_type": "code",
   "execution_count": null,
   "id": "6c6bf033",
   "metadata": {},
   "outputs": [],
   "source": [
    "frame_time_stamps = []\n",
    "with open('dtimestamps.txt') as f:\n",
    "    flag = 0\n",
    "    for line in f.readlines():\n",
    "        line = line.replace('\\n', '')\n",
    "        line  = int(line)\n",
    "        frame_time_stamps.append(line)\n",
    "frame_time_stamps = np.array(frame_time_stamps)\n",
    "len(frame_time_stamps)"
   ]
  },
  {
   "cell_type": "code",
   "execution_count": null,
   "id": "5eec301c",
   "metadata": {},
   "outputs": [],
   "source": [
    "#event_data format right now: event_x, event_y, t, disparity_index, disparity, rect3d_x, rect3d_y, rect3d_z,\n",
    "#rectframe_x, rectframe_y, frame_timestamps_idx\n",
    "event_data = np.hstack((event_data, np.zeros((len(event_data), 1))))\n",
    "event_data.shape"
   ]
  },
  {
   "cell_type": "code",
   "execution_count": null,
   "id": "baf799fa",
   "metadata": {},
   "outputs": [],
   "source": [
    "for row in range(len(event_data)):\n",
    "    event_data[row, 11] = np.argmin(np.abs(frame_time_stamps - event_data[row, 2])) * 1000\n",
    "event_data"
   ]
  },
  {
   "cell_type": "code",
   "execution_count": null,
   "id": "36468fbd",
   "metadata": {},
   "outputs": [],
   "source": [
    "# image_id = -6\n",
    "# with open('images.txt') as f:\n",
    "#     for line in f.readlines():\n",
    "#         image_id += 1\n",
    "#         temp = line.strip().split()\n",
    "#         if (temp[0] != '#') & (image_id %2 == 0 ) & (image_id/2 < 5) & (image_id/2 >= 0):\n",
    "#             yes = 0\n",
    "#             for row in range(len(event_data)):\n",
    "#                 if event_data[row, 10] == image_id/2:\n",
    "#                     for idx in range(int(len(temp)/3)):\n",
    "#                         if temp[idx*3+2] != '-1':\n",
    "#                             if (np.abs(float(temp[3*idx])-event_data[row, 8])<5) & (np.abs(float(temp[3*idx+1])-event_data[row, 9]) <5):\n",
    "#                                 yes += 1\n",
    "#             print(yes)"
   ]
  },
  {
   "cell_type": "code",
   "execution_count": null,
   "id": "41c0906b",
   "metadata": {},
   "outputs": [],
   "source": [
    "# image_id = -6\n",
    "# with open('images.txt') as f:\n",
    "#     for line in f.readlines():\n",
    "#         image_id += 1\n",
    "#         temp = line.strip().split()\n",
    "#         if (temp[0] != '#') & (image_id %2 == 0 ) & (image_id/2 < 5) & (image_id/2 >= 0):\n",
    "#             for row in range(len(event_data)):\n",
    "#                 if event_data[row, 10] == image_id/2:\n",
    "#                     for idx in range(int(len(temp)/3)):\n",
    "#                         if temp[idx*3+2] != '-1':\n",
    "#                             if (np.abs(float(temp[3*idx])-event_data[row, 8])<5) & (np.abs(float(temp[3*idx+1])-event_data[row, 9]) <5):\n",
    "#                                 event_data[row, 11] = float(temp[idx*3+2])\n",
    "# np.save('event_data', event_data)"
   ]
  },
  {
   "cell_type": "code",
   "execution_count": null,
   "id": "21186f10",
   "metadata": {},
   "outputs": [],
   "source": [
    "#这个地方有没有什么更快的方法\n",
    "flag = -4\n",
    "compare_array = np.zeros((1, 4))\n",
    "with open('images.txt') as f:\n",
    "    for line in f.readlines():\n",
    "        flag += 1\n",
    "        if (line[0] != '#') & (flag % 2 == 0):\n",
    "            temp = line.strip().split()\n",
    "            for idx in range(int(len(temp)/3)):\n",
    "                if temp[idx*3+2] != '-1':\n",
    "                    line = np.zeros((1, 4))\n",
    "                    line[0, 0] = float(temp[3*idx])\n",
    "                    line[0, 1] = float(temp[3*idx + 1])\n",
    "                    line[0, 2] = flag/2 * 1000\n",
    "                    line[0, 3] = float(temp[3*idx + 2])\n",
    "                    compare_array = np.vstack((compare_array, line))\n",
    "compare_array"
   ]
  },
  {
   "cell_type": "code",
   "execution_count": null,
   "id": "2300589b",
   "metadata": {},
   "outputs": [],
   "source": [
    "compare_array = np.delete(compare_array, 0, axis = 0)\n",
    "compare_array"
   ]
  },
  {
   "cell_type": "code",
   "execution_count": null,
   "id": "9768224d",
   "metadata": {},
   "outputs": [],
   "source": [
    "compare_array[:, 2] = compare_array[:, 2] - 1000\n",
    "compare_array"
   ]
  },
  {
   "cell_type": "code",
   "execution_count": null,
   "id": "de2fc762",
   "metadata": {},
   "outputs": [],
   "source": [
    "np.save( 'compare_array.npy', compare_array)"
   ]
  },
  {
   "cell_type": "code",
   "execution_count": null,
   "id": "c4f0a2b7",
   "metadata": {},
   "outputs": [],
   "source": [
    "compare_array = np.load('compare_array.npy')\n",
    "# event_data = np.load('event_data.npy')"
   ]
  },
  {
   "cell_type": "code",
   "execution_count": null,
   "id": "e309f189",
   "metadata": {},
   "outputs": [],
   "source": [
    "compare_array"
   ]
  },
  {
   "cell_type": "code",
   "execution_count": null,
   "id": "96fc175f",
   "metadata": {},
   "outputs": [],
   "source": [
    "event_data"
   ]
  },
  {
   "cell_type": "code",
   "execution_count": null,
   "id": "538d6952",
   "metadata": {},
   "outputs": [],
   "source": [
    "from scipy import spatial\n",
    "print(compare_array[:, 0:3].shape)\n",
    "print(event_data[:, (9, 10, 11)].shape)\n",
    "kd_tree = spatial.KDTree(compare_array[:, 0:3])\n",
    "dist, idx = kd_tree.query(event_data[:, (9, 10, 11)])"
   ]
  },
  {
   "cell_type": "code",
   "execution_count": null,
   "id": "5625d927",
   "metadata": {},
   "outputs": [],
   "source": [
    "print(dist.max())\n",
    "print(dist.min())\n",
    "print(dist.shape)\n",
    "idx_idx = np.argwhere(dist<3)\n",
    "print(idx_idx.shape)"
   ]
  },
  {
   "cell_type": "code",
   "execution_count": null,
   "id": "53bed260",
   "metadata": {},
   "outputs": [],
   "source": [
    "print(idx[idx_idx].shape)"
   ]
  },
  {
   "cell_type": "code",
   "execution_count": null,
   "id": "9c2658f6",
   "metadata": {},
   "outputs": [],
   "source": [
    "event_data = event_data[idx_idx, :]"
   ]
  },
  {
   "cell_type": "code",
   "execution_count": null,
   "id": "137d9528",
   "metadata": {},
   "outputs": [],
   "source": [
    "event_data = event_data.squeeze()\n",
    "event_data.shape"
   ]
  },
  {
   "cell_type": "code",
   "execution_count": null,
   "id": "34d9a044",
   "metadata": {},
   "outputs": [],
   "source": [
    "compare_array[idx[idx_idx]].squeeze()"
   ]
  },
  {
   "cell_type": "code",
   "execution_count": null,
   "id": "19acabba",
   "metadata": {},
   "outputs": [],
   "source": [
    "event_data = np.hstack((event_data, compare_array[idx[idx_idx]].squeeze()[:, 3].reshape(-1, 1)))\n",
    "event_data.shape"
   ]
  },
  {
   "cell_type": "code",
   "execution_count": null,
   "id": "e1f23d9a",
   "metadata": {},
   "outputs": [],
   "source": [
    "event_data[2, 12].dtype"
   ]
  },
  {
   "cell_type": "code",
   "execution_count": null,
   "id": "f56c7f07",
   "metadata": {},
   "outputs": [],
   "source": [
    "event_data[:, 12]"
   ]
  },
  {
   "cell_type": "code",
   "execution_count": null,
   "id": "7927e08e",
   "metadata": {},
   "outputs": [],
   "source": [
    "np.save( 'event_data.npy', event_data)"
   ]
  },
  {
   "cell_type": "code",
   "execution_count": null,
   "id": "6685e41c",
   "metadata": {},
   "outputs": [],
   "source": [
    "effective_event_data = event_data\n",
    "effective_event_data[-1,  :]"
   ]
  },
  {
   "cell_type": "code",
   "execution_count": null,
   "id": "6e2b1230",
   "metadata": {},
   "outputs": [],
   "source": [
    "print(effective_event_data.shape)\n",
    "time_stamps = effective_event_data[:, 11]\n",
    "time_stamps = time_stamps.squeeze()\n",
    "print(time_stamps.shape)\n",
    "for i in np.unique(time_stamps):\n",
    "    idx = np.argwhere(time_stamps == i)\n",
    "    print('index for {}:\\n'.format(i), idx.reshape(1, -1).squeeze(0))"
   ]
  },
  {
   "cell_type": "code",
   "execution_count": null,
   "id": "eba0879c",
   "metadata": {},
   "outputs": [],
   "source": [
    "img0_index = np.argwhere(effective_event_data[:, 10] == 0)\n",
    "img0 = effective_event_data[img0_index, :]\n",
    "img0 = img0.squeeze()\n",
    "img0"
   ]
  },
  {
   "cell_type": "code",
   "execution_count": null,
   "id": "278ff203",
   "metadata": {},
   "outputs": [],
   "source": [
    "img1_index = np.argwhere(effective_event_data[:, 10] == 1000)\n",
    "img1 = effective_event_data[img1_index, :]\n",
    "img1 = img1.squeeze()\n",
    "img1"
   ]
  },
  {
   "cell_type": "code",
   "execution_count": null,
   "id": "687b13e3",
   "metadata": {},
   "outputs": [],
   "source": [
    "img2_index = np.argwhere(effective_event_data[:, 10] == 2000)\n",
    "img2 = effective_event_data[img2_index, :]\n",
    "img2 = img2.squeeze()\n",
    "img2"
   ]
  },
  {
   "cell_type": "code",
   "execution_count": null,
   "id": "b636d526",
   "metadata": {},
   "outputs": [],
   "source": [
    "img3_index = np.argwhere(effective_event_data[:, 10] == 3000)\n",
    "img3 = effective_event_data[img3_index, :]\n",
    "img3 = img3.squeeze()\n",
    "img3"
   ]
  },
  {
   "cell_type": "code",
   "execution_count": null,
   "id": "c49f84c8",
   "metadata": {},
   "outputs": [],
   "source": [
    "img4_index = np.argwhere(effective_event_data[:, 10] == 4000)\n",
    "img4 = effective_event_data[img4_index, :]\n",
    "img4 = img4.squeeze()\n",
    "img4"
   ]
  },
  {
   "cell_type": "code",
   "execution_count": null,
   "id": "0c86d108",
   "metadata": {},
   "outputs": [],
   "source": [
    "image0 = np.ones([480, 640])\n",
    "xx_img0 = img0[:, 0].astype(int)\n",
    "yy_img0 = img0[:, 1].astype(int)\n",
    "image0[yy_img0, xx_img0] = 2\n",
    "\n",
    "image1 = np.ones([480, 640])\n",
    "xx_img1 = img1[:, 0].astype(int)\n",
    "yy_img1 = img1[:, 1].astype(int)\n",
    "image1[yy_img1, xx_img1] = 2\n",
    "\n",
    "image2 = np.ones([480, 640])\n",
    "xx_img2 = img2[:, 0].astype(int)\n",
    "yy_img2 = img2[:, 1].astype(int)\n",
    "image2[yy_img2, xx_img2] = 2\n",
    "\n",
    "image3 = np.ones([480, 640])\n",
    "xx_img3 = img3[:, 0].astype(int)\n",
    "yy_img3 = img3[:, 1].astype(int)\n",
    "image3[yy_img3, xx_img3] = 2\n",
    "\n",
    "image4 = np.ones([480, 640])\n",
    "xx_img4 = img4[:, 0].astype(int)\n",
    "yy_img4 = img4[:, 1].astype(int)\n",
    "image4[yy_img4, xx_img4] = 2\n",
    "\n",
    "\n",
    "\n",
    "plt.figure(1, (15, 10))\n",
    "plt.subplot(1, 2, 1)\n",
    "plt.imshow(image0)\n",
    "plt.subplot(1, 2, 2)\n",
    "plt.imshow(image1)\n",
    "plt.show()"
   ]
  },
  {
   "cell_type": "code",
   "execution_count": null,
   "id": "ca5e7485",
   "metadata": {},
   "outputs": [],
   "source": [
    "plt.figure(1, (15, 10))\n",
    "plt.subplot(1, 2, 1)\n",
    "plt.imshow(image2)\n",
    "plt.subplot(1, 2, 2)\n",
    "plt.imshow(image3)\n",
    "plt.show()"
   ]
  },
  {
   "cell_type": "code",
   "execution_count": null,
   "id": "3ee61c7b",
   "metadata": {},
   "outputs": [],
   "source": [
    "check_image = np.ones([480, 640*2])\n",
    "xx_check_image = img1[:, 0].astype(int)\n",
    "xx_check_image.shape"
   ]
  },
  {
   "cell_type": "code",
   "execution_count": null,
   "id": "1b402911",
   "metadata": {},
   "outputs": [],
   "source": [
    "whole_events = np.vstack((x[0:1800367], y[0:1800367]))\n",
    "whole_events = np.vstack((whole_events, t[0:1800367]))\n",
    "whole_events = whole_events.T\n",
    "print(whole_events.shape)\n",
    "index_for_img3 = np.argmin(np.abs(frame_time_stamps[2] - event_data[:, 2]))\n",
    "index_for_img3"
   ]
  },
  {
   "cell_type": "code",
   "execution_count": null,
   "id": "d1aef12c",
   "metadata": {
    "scrolled": true
   },
   "outputs": [],
   "source": [
    "check_image = np.zeros([480, 640*2])\n",
    "plt.figure(1, (15, 10))\n",
    "\n",
    "# xx_img3 = img3[:, 0].astype(int)\n",
    "# yy_img3 = img3[:, 1].astype(int)\n",
    "# check_image[yy_img3, xx_img3] = 2\n",
    "# xx_img4 = img4[:, 0].astype(int) + 640\n",
    "# yy_img4 = img4[:, 1].astype(int)\n",
    "# check_image[yy_img4, xx_img4] = 2\n",
    "\n",
    "for row in range(whole_events.shape[0]):\n",
    "    index_for_events = np.argmin(np.abs(frame_time_stamps - whole_events[row, 2]))\n",
    "    if (index_for_events == 2):\n",
    "        if (whole_events[row, 0]<640) & (whole_events[row, 1]<480):\n",
    "            check_image[whole_events[row, 1].astype(int), whole_events[row, 0].astype(int)] = 2\n",
    "    if (index_for_events == 3):\n",
    "        if (whole_events[row, 0]<640) & (whole_events[row, 1]<480):\n",
    "            check_image[whole_events[row, 1].astype(int), whole_events[row, 0].astype(int) + 640] = 2\n",
    "    \n",
    "print(effective_event_data.shape)\n",
    "time_stamps = effective_event_data[:, 11]\n",
    "time_stamps = time_stamps.squeeze()\n",
    "index = effective_event_data[:, 10].squeeze()\n",
    "print(time_stamps)\n",
    "print(index)\n",
    "k = 0\n",
    "for i in np.unique(time_stamps):\n",
    "    idx_1 = np.argwhere(np.logical_and(time_stamps == i, index == 3000))\n",
    "    idx_2 = np.argwhere(np.logical_and(time_stamps == i, index == 4000))\n",
    "    if (idx_1.shape[0] != 0) & (idx_2.shape[0] != 0):\n",
    "        point_1 = idx_1.reshape(1, -1).squeeze(0)[0]\n",
    "        point_2 = idx_2.reshape(1, -1).squeeze(0)[0]\n",
    "#         print('index for {}:\\n'.format(i), point_1)\n",
    "#         print('index for {}:\\n'.format(i), point_2)\n",
    "        x = [effective_event_data[point_1, 0], effective_event_data[point_2, 0] + 640]\n",
    "        y = [effective_event_data[point_1, 1], effective_event_data[point_2, 1]]\n",
    "        check_image[effective_event_data[point_1, 1].astype(int), effective_event_data[point_1, 0].astype(int)] = 1\n",
    "        check_image[effective_event_data[point_2, 1].astype(int), effective_event_data[point_2, 0].astype(int) + 640] = 1\n",
    "        plt.plot(x, y, color=\"white\", linewidth=0.2)\n",
    "plt.imshow(check_image)\n",
    "plt.show()"
   ]
  },
  {
   "cell_type": "code",
   "execution_count": null,
   "id": "a7533e0e",
   "metadata": {},
   "outputs": [],
   "source": [
    "original_event_data[-1, :]"
   ]
  },
  {
   "cell_type": "code",
   "execution_count": null,
   "id": "a0bf4409",
   "metadata": {
    "scrolled": true
   },
   "outputs": [],
   "source": [
    "time_stamps = effective_event_data[:, 11]\n",
    "time_stamps = time_stamps.squeeze()\n",
    "index = effective_event_data[:, 10].squeeze()\n",
    "for frame_index in range(45):\n",
    "#     fig = plt.figure()\n",
    "#     ax = fig.add_subplot(111)\n",
    "    check_image = np.zeros((480, 640))\n",
    "    for row in range(original_event_data.shape[0]):\n",
    "        index_for_events = np.argmin(np.abs(frame_time_stamps - original_event_data[row, 2]))\n",
    "        if (index_for_events == frame_index):\n",
    "            if (original_event_data[row, 0]<640) & (original_event_data[row, 1]<480):\n",
    "                check_image[original_event_data[row, 1].astype(int), original_event_data[row, 0].astype(int)] = 2   \n",
    "    plt.imshow(check_image)\n",
    "    for i in np.unique(time_stamps):\n",
    "        idx_1 = np.argwhere(np.logical_and(time_stamps == i, index == 1000 * frame_index))\n",
    "        idx_2 = np.argwhere(np.logical_and(time_stamps == i, index == 1000 * (frame_index+1)))\n",
    "        if (idx_1.shape[0] != 0) & (idx_2.shape[0] != 0):\n",
    "#             print(idx_1.shape)\n",
    "#             print(idx_2.shape)\n",
    "            point_1 = idx_1.reshape(1, -1).squeeze(0)[0]\n",
    "            point_2 = idx_2.reshape(1, -1).squeeze(0)[0]\n",
    "    #         print('index for {}:\\n'.format(i), point_1)\n",
    "    #         print('index for {}:\\n'.format(i), point_2)\n",
    "            X = effective_event_data[point_1, 0].astype(int)\n",
    "            Y = effective_event_data[point_1, 1].astype(int)\n",
    "            U = effective_event_data[point_2, 0] - effective_event_data[point_1, 0]\n",
    "            V = effective_event_data[point_2, 1] - effective_event_data[point_1, 1]\n",
    "            plt.quiver(X, Y, U, V, angles='xy', scale_units= 'xy', scale=1)\n",
    "    plt.savefig('animation/' + str(frame_index) + '.png')"
   ]
  },
  {
   "cell_type": "code",
   "execution_count": null,
   "id": "28c0292b",
   "metadata": {},
   "outputs": [],
   "source": [
    "import cv2\n",
    "size = (432,288)\n",
    "print(size)\n",
    "#完成写入对象的创建，第一个参数是合成之后的视频的名称，第二个参数是可以使用的编码器，第三个参数是帧率即每秒钟展示多少张图片，第四个参数是图片大小信息\n",
    "videowrite = cv2.VideoWriter(r'test_background.mp4',-1,3,size)\n",
    "img_array=[]\n",
    "for filename in [r'animation/{0}.png'.format(i) for i in range(45)]:\n",
    "    img = cv2.imread(filename)\n",
    "    if img is None:\n",
    "        print(filename + \" is error!\")\n",
    "        continue\n",
    "    img_array.append(img)\n",
    "for i in range(45):\n",
    "    videowrite.write(img_array[i])\n",
    "print('end!')"
   ]
  },
  {
   "cell_type": "code",
   "execution_count": null,
   "id": "0f392439",
   "metadata": {},
   "outputs": [],
   "source": [
    "compare_array = np.load('compare_array.npy')\n",
    "event_data = np.load('event_data.npy')\n",
    "print(compare_array[:, 0:3].shape)\n",
    "print(event_data[:, (8, 9, 10)].shape)"
   ]
  },
  {
   "cell_type": "code",
   "execution_count": null,
   "id": "81b9e6c3",
   "metadata": {},
   "outputs": [],
   "source": [
    "from scipy import spatial\n",
    "kd_tree = spatial.KDTree(compare_array[:, 0:3])\n",
    "dist, idx = kd_tree.query(event_data[:, (8, 9, 10)])"
   ]
  },
  {
   "cell_type": "code",
   "execution_count": null,
   "id": "121f5604",
   "metadata": {},
   "outputs": [],
   "source": [
    "print(dist.max())\n",
    "print(dist.min())\n",
    "print(dist.shape)\n",
    "idx_idx = np.argwhere(dist<3)\n",
    "print(idx_idx.shape)"
   ]
  },
  {
   "cell_type": "code",
   "execution_count": null,
   "id": "8019c129",
   "metadata": {},
   "outputs": [],
   "source": [
    "compare_array"
   ]
  },
  {
   "cell_type": "code",
   "execution_count": null,
   "id": "7c0175bf",
   "metadata": {},
   "outputs": [],
   "source": [
    "idx.shape"
   ]
  },
  {
   "cell_type": "code",
   "execution_count": null,
   "id": "c253e9f6",
   "metadata": {},
   "outputs": [],
   "source": [
    "effective_compare_array = compare_array[idx[idx_idx]].squeeze()\n",
    "effective_compare_array"
   ]
  },
  {
   "cell_type": "code",
   "execution_count": null,
   "id": "e7900689",
   "metadata": {},
   "outputs": [],
   "source": [
    "event_data_compare = event_data[idx_idx]\n",
    "event_data_compare"
   ]
  },
  {
   "cell_type": "code",
   "execution_count": null,
   "id": "63ae4116",
   "metadata": {},
   "outputs": [],
   "source": [
    "event_data_compare = event_data_compare.squeeze()\n",
    "event_data_compare"
   ]
  },
  {
   "cell_type": "code",
   "execution_count": null,
   "id": "f21b7c90",
   "metadata": {},
   "outputs": [],
   "source": [
    "event_data_compare.shape"
   ]
  },
  {
   "cell_type": "code",
   "execution_count": null,
   "id": "72a0b38b",
   "metadata": {},
   "outputs": [],
   "source": [
    "event_data[0, :]"
   ]
  },
  {
   "cell_type": "code",
   "execution_count": null,
   "id": "9585ce41",
   "metadata": {},
   "outputs": [],
   "source": [
    "event_data_compare = np.hstack((event_data_compare, compare_array[idx[idx_idx]].squeeze()[:, 3].reshape(-1, 1)))\n",
    "event_data_compare.shape"
   ]
  },
  {
   "cell_type": "code",
   "execution_count": null,
   "id": "4ace82af",
   "metadata": {},
   "outputs": [],
   "source": [
    "event_data_compare[3, :]"
   ]
  },
  {
   "cell_type": "code",
   "execution_count": null,
   "id": "98778fec",
   "metadata": {},
   "outputs": [],
   "source": [
    "print(event_data_compare.shape)\n",
    "point_id = event_data_compare[:, 11]\n",
    "point_id = point_id.squeeze()\n",
    "print(point_id.shape)\n",
    "for i in np.unique(point_id):\n",
    "    idx = np.argwhere(point_id == i)\n",
    "    print('index for {}:\\n'.format(i), idx.reshape(1, -1).squeeze(0))"
   ]
  },
  {
   "cell_type": "code",
   "execution_count": null,
   "id": "7beb19cc",
   "metadata": {},
   "outputs": [],
   "source": [
    "original_event_data[0:20]"
   ]
  },
  {
   "cell_type": "code",
   "execution_count": null,
   "id": "1a4f6157",
   "metadata": {},
   "outputs": [],
   "source": [
    "for i in np.unique(point_id):\n",
    "    idx = np.argwhere(point_id == i)\n",
    "    if i == 61519:\n",
    "        event_data_for_one_feature = event_data_compare[idx]\n",
    "        event_data_for_one_feature = event_data_for_one_feature.squeeze()\n",
    "        flag = -1\n",
    "        for row in range(event_data_for_one_feature.shape[0]):\n",
    "            if event_data_for_one_feature[row, 10] != flag:\n",
    "                #print(event_data_for_one_feature[row, :])\n",
    "                flag = event_data_for_one_feature[row, 10]\n",
    "                #print(dist_for_one_feature_and_frame)\n",
    "                idx = np.where((np.abs(original_event_data[:, 0] - event_data_for_one_feature[row, 0]) < 5) & (np.abs(original_event_data[:, 1] - event_data_for_one_feature[row, 1]) < 5) & (np.abs(original_event_data[:, 2] - event_data_for_one_feature[row, 2]) < 10000))\n",
    "                x_values = original_event_data[idx, 0]\n",
    "                y_values = original_event_data[idx, 1]\n",
    "                t_values = original_event_data[idx, 2]\n",
    "#                 plt.xlim((event_data_for_one_feature[row, 0] - 10, event_data_for_one_feature[row, 0] + 10))\n",
    "#                 plt.ylim((event_data_for_one_feature[row, 1] - 10, event_data_for_one_feature[row, 1] + 10))\n",
    "#                 plt.scatter(x_values, y_values, s=5)\n",
    "#                 plt.show()\n",
    "#                 plt.clf()\n",
    "                plt.xlim((event_data_for_one_feature[row, 0] - 10, event_data_for_one_feature[row, 0] + 10))\n",
    "                plt.ylim((event_data_for_one_feature[row, 2] - 15000, event_data_for_one_feature[row, 2] + 15000))\n",
    "                plt.scatter(x_values, t_values, s=5)\n",
    "                plt.show()\n",
    "                plt.clf()\n",
    "#                 plt.scatter(y_values, t_values, s=5)\n",
    "#                 plt.show()\n",
    "#                 plt.clf()"
   ]
  },
  {
   "cell_type": "code",
   "execution_count": null,
   "id": "81bbb41c",
   "metadata": {},
   "outputs": [],
   "source": [
    "print(original_event_data.shape)\n",
    "idx = np.where((np.abs(original_event_data[:, 0] - event_data_for_one_feature[120, 0]) < 5) & (np.abs(original_event_data[:, 1] - event_data_for_one_feature[120, 1]) < 5) & (np.abs(original_event_data[:, 2] - event_data_for_one_feature[120, 2]) < 5000))\n",
    "print(idx)\n",
    "x_values = original_event_data[idx, 0]\n",
    "y_values = original_event_data[idx, 1]\n",
    "t_values = original_event_data[idx, 2]\n",
    "plt.scatter(x_values, y_values, s=50)\n",
    "plt.show()"
   ]
  },
  {
   "cell_type": "code",
   "execution_count": null,
   "id": "5702bc03",
   "metadata": {},
   "outputs": [],
   "source": []
  }
 ],
 "metadata": {
  "kernelspec": {
   "display_name": "Python 3 (ipykernel)",
   "language": "python",
   "name": "python3"
  },
  "language_info": {
   "codemirror_mode": {
    "name": "ipython",
    "version": 3
   },
   "file_extension": ".py",
   "mimetype": "text/x-python",
   "name": "python",
   "nbconvert_exporter": "python",
   "pygments_lexer": "ipython3",
   "version": "3.9.12"
  }
 },
 "nbformat": 4,
 "nbformat_minor": 5
}

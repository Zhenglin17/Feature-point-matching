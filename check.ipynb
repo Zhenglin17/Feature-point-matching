{
 "cells": [
  {
   "cell_type": "code",
   "execution_count": 2,
   "id": "10784a5b",
   "metadata": {},
   "outputs": [],
   "source": [
    "import numpy as np"
   ]
  },
  {
   "cell_type": "code",
   "execution_count": 3,
   "id": "fe3064f6",
   "metadata": {},
   "outputs": [],
   "source": [
    "event = np.load('event_data.npy')"
   ]
  },
  {
   "cell_type": "code",
   "execution_count": 5,
   "id": "2c7f7b13",
   "metadata": {},
   "outputs": [
    {
     "data": {
      "text/plain": [
       "array([[1.18000000e+02, 2.83000000e+02, 4.95992002e+10, ...,\n",
       "        2.79912248e+02, 7.02826846e+02, 0.00000000e+00],\n",
       "       [1.00000000e+02, 2.80000000e+02, 4.95992002e+10, ...,\n",
       "        2.43438008e+02, 6.96538616e+02, 0.00000000e+00],\n",
       "       [6.37000000e+02, 2.79000000e+02, 4.95992002e+10, ...,\n",
       "        1.34364213e+03, 6.99599032e+02, 0.00000000e+00],\n",
       "       ...,\n",
       "       [6.60000000e+01, 1.65000000e+02, 4.95994005e+10, ...,\n",
       "        1.78560797e+02, 4.62258909e+02, 4.00000000e+00],\n",
       "       [2.38000000e+02, 1.66000000e+02, 4.95994005e+10, ...,\n",
       "        5.28061887e+02, 4.65057270e+02, 4.00000000e+00],\n",
       "       [6.90000000e+01, 1.67000000e+02, 4.95994005e+10, ...,\n",
       "        1.84598599e+02, 4.66334737e+02, 4.00000000e+00]])"
      ]
     },
     "execution_count": 5,
     "metadata": {},
     "output_type": "execute_result"
    }
   ],
   "source": [
    "event[:, 0:11]"
   ]
  },
  {
   "cell_type": "code",
   "execution_count": null,
   "id": "bed0ba34",
   "metadata": {},
   "outputs": [],
   "source": []
  }
 ],
 "metadata": {
  "kernelspec": {
   "display_name": "Python 3",
   "language": "python",
   "name": "python3"
  },
  "language_info": {
   "codemirror_mode": {
    "name": "ipython",
    "version": 3
   },
   "file_extension": ".py",
   "mimetype": "text/x-python",
   "name": "python",
   "nbconvert_exporter": "python",
   "pygments_lexer": "ipython3",
   "version": "3.8.8"
  }
 },
 "nbformat": 4,
 "nbformat_minor": 5
}

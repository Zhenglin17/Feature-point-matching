{
 "cells": [
  {
   "cell_type": "code",
   "execution_count": 2,
   "id": "b04e0395",
   "metadata": {},
   "outputs": [],
   "source": [
    "import cv2 as cv\n",
    "import os"
   ]
  },
  {
   "cell_type": "code",
   "execution_count": 12,
   "id": "c2294367",
   "metadata": {},
   "outputs": [
    {
     "name": "stdout",
     "output_type": "stream",
     "text": [
      "images_jpg\n",
      "convert  000011.png  to 000011.jpg\n",
      "<class 'numpy.ndarray'>\n",
      "convert  000012.png  to 000012.jpg\n",
      "<class 'numpy.ndarray'>\n",
      "convert  000013.png  to 000013.jpg\n",
      "<class 'numpy.ndarray'>\n",
      "convert  000014.png  to 000014.jpg\n",
      "<class 'numpy.ndarray'>\n",
      "convert  000015.png  to 000015.jpg\n",
      "<class 'numpy.ndarray'>\n",
      "convert  000016.png  to 000016.jpg\n",
      "<class 'numpy.ndarray'>\n",
      "convert  000017.png  to 000017.jpg\n",
      "<class 'numpy.ndarray'>\n",
      "convert  000018.png  to 000018.jpg\n",
      "<class 'numpy.ndarray'>\n",
      "convert  000019.png  to 000019.jpg\n",
      "<class 'numpy.ndarray'>\n",
      "convert  000020.png  to 000020.jpg\n",
      "<class 'numpy.ndarray'>\n",
      "convert  000021.png  to 000021.jpg\n",
      "<class 'numpy.ndarray'>\n",
      "convert  000022.png  to 000022.jpg\n",
      "<class 'numpy.ndarray'>\n",
      "convert  000023.png  to 000023.jpg\n",
      "<class 'numpy.ndarray'>\n",
      "convert  000024.png  to 000024.jpg\n",
      "<class 'numpy.ndarray'>\n",
      "convert  000025.png  to 000025.jpg\n",
      "<class 'numpy.ndarray'>\n",
      "convert  000026.png  to 000026.jpg\n",
      "<class 'numpy.ndarray'>\n",
      "convert  000027.png  to 000027.jpg\n",
      "<class 'numpy.ndarray'>\n",
      "convert  000028.png  to 000028.jpg\n",
      "<class 'numpy.ndarray'>\n",
      "convert  000029.png  to 000029.jpg\n",
      "<class 'numpy.ndarray'>\n",
      "convert  000030.png  to 000030.jpg\n",
      "<class 'numpy.ndarray'>\n",
      "转换完毕，文件存入 images_jpg 中\n"
     ]
    }
   ],
   "source": [
    "path = 'images'\n",
    " \n",
    "newpath = 'images_jpg'\n",
    "if not os.path.exists(newpath):\n",
    "    os.mkdir(newpath)\n",
    "print(newpath)\n",
    " \n",
    "path_list=os.listdir(path)\n",
    "path_list.sort()\n",
    "for filename in path_list:\n",
    "    portion = os.path.splitext(filename)\n",
    "    print('convert  ' + filename +'  to '+portion[0]+'.jpg')\n",
    "    src = cv.imread(path+'//'+filename)\n",
    "    print(type(src))\n",
    "    cv.imwrite(newpath+ '//' + portion[0]+ '.jpg',src)\n",
    " \n",
    "print('转换完毕，文件存入 '+newpath+' 中')"
   ]
  },
  {
   "cell_type": "code",
   "execution_count": null,
   "id": "5badbcd5",
   "metadata": {},
   "outputs": [],
   "source": []
  }
 ],
 "metadata": {
  "kernelspec": {
   "display_name": "Python 3",
   "language": "python",
   "name": "python3"
  },
  "language_info": {
   "codemirror_mode": {
    "name": "ipython",
    "version": 3
   },
   "file_extension": ".py",
   "mimetype": "text/x-python",
   "name": "python",
   "nbconvert_exporter": "python",
   "pygments_lexer": "ipython3",
   "version": "3.8.8"
  }
 },
 "nbformat": 4,
 "nbformat_minor": 5
}
